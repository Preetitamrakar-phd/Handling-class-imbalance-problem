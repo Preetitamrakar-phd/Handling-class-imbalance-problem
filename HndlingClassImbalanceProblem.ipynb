{
  "nbformat": 4,
  "nbformat_minor": 0,
  "metadata": {
    "colab": {
      "name": "Untitled4.ipynb",
      "provenance": []
    },
    "kernelspec": {
      "name": "python3",
      "display_name": "Python 3"
    }
  },
  "cells": [
    {
      "cell_type": "code",
      "metadata": {
        "id": "IYGs_w2dhWfZ",
        "outputId": "7c42d150-43d4-4259-f0d4-07957a63177d",
        "colab": {
          "base_uri": "https://localhost:8080/",
          "height": 202
        }
      },
      "source": [
        "\n",
        "import pandas as pd\n",
        "import numpy as np\n",
        " \n",
        "# Read dataset\n",
        "df = pd.read_csv('/content/balance-scale.data', \n",
        "                 names=['balance', 'var1', 'var2', 'var3', 'var4'])\n",
        " \n",
        "# Display example observations\n",
        "df.head()"
      ],
      "execution_count": 2,
      "outputs": [
        {
          "output_type": "execute_result",
          "data": {
            "text/html": [
              "<div>\n",
              "<style scoped>\n",
              "    .dataframe tbody tr th:only-of-type {\n",
              "        vertical-align: middle;\n",
              "    }\n",
              "\n",
              "    .dataframe tbody tr th {\n",
              "        vertical-align: top;\n",
              "    }\n",
              "\n",
              "    .dataframe thead th {\n",
              "        text-align: right;\n",
              "    }\n",
              "</style>\n",
              "<table border=\"1\" class=\"dataframe\">\n",
              "  <thead>\n",
              "    <tr style=\"text-align: right;\">\n",
              "      <th></th>\n",
              "      <th>balance</th>\n",
              "      <th>var1</th>\n",
              "      <th>var2</th>\n",
              "      <th>var3</th>\n",
              "      <th>var4</th>\n",
              "    </tr>\n",
              "  </thead>\n",
              "  <tbody>\n",
              "    <tr>\n",
              "      <th>0</th>\n",
              "      <td>B</td>\n",
              "      <td>1</td>\n",
              "      <td>1</td>\n",
              "      <td>1</td>\n",
              "      <td>1</td>\n",
              "    </tr>\n",
              "    <tr>\n",
              "      <th>1</th>\n",
              "      <td>R</td>\n",
              "      <td>1</td>\n",
              "      <td>1</td>\n",
              "      <td>1</td>\n",
              "      <td>2</td>\n",
              "    </tr>\n",
              "    <tr>\n",
              "      <th>2</th>\n",
              "      <td>R</td>\n",
              "      <td>1</td>\n",
              "      <td>1</td>\n",
              "      <td>1</td>\n",
              "      <td>3</td>\n",
              "    </tr>\n",
              "    <tr>\n",
              "      <th>3</th>\n",
              "      <td>R</td>\n",
              "      <td>1</td>\n",
              "      <td>1</td>\n",
              "      <td>1</td>\n",
              "      <td>4</td>\n",
              "    </tr>\n",
              "    <tr>\n",
              "      <th>4</th>\n",
              "      <td>R</td>\n",
              "      <td>1</td>\n",
              "      <td>1</td>\n",
              "      <td>1</td>\n",
              "      <td>5</td>\n",
              "    </tr>\n",
              "  </tbody>\n",
              "</table>\n",
              "</div>"
            ],
            "text/plain": [
              "  balance  var1  var2  var3  var4\n",
              "0       B     1     1     1     1\n",
              "1       R     1     1     1     2\n",
              "2       R     1     1     1     3\n",
              "3       R     1     1     1     4\n",
              "4       R     1     1     1     5"
            ]
          },
          "metadata": {
            "tags": []
          },
          "execution_count": 2
        }
      ]
    },
    {
      "cell_type": "code",
      "metadata": {
        "id": "AZ8YMQ50i75X",
        "outputId": "6c0d3d4c-383b-4703-f2e4-d529dfa2b662",
        "colab": {
          "base_uri": "https://localhost:8080/",
          "height": 87
        }
      },
      "source": [
        "df['balance'].value_counts()"
      ],
      "execution_count": 3,
      "outputs": [
        {
          "output_type": "execute_result",
          "data": {
            "text/plain": [
              "L    288\n",
              "R    288\n",
              "B     49\n",
              "Name: balance, dtype: int64"
            ]
          },
          "metadata": {
            "tags": []
          },
          "execution_count": 3
        }
      ]
    },
    {
      "cell_type": "markdown",
      "metadata": {
        "id": "fivsktvwjkDQ"
      },
      "source": [
        "We're going to label each observation as 1 (positive class) if the scale is balanced or 0 (negative class) if the scale is not balanced:"
      ]
    },
    {
      "cell_type": "code",
      "metadata": {
        "id": "YbkxUUtKjK0N",
        "outputId": "adfbc0a5-6301-4911-d793-09ea2d030cf3",
        "colab": {
          "base_uri": "https://localhost:8080/",
          "height": 69
        }
      },
      "source": [
        "# Transform into binary classification\n",
        "df['balance'] = [1 if b=='B' else 0 for b in df.balance]\n",
        " \n",
        "df['balance'].value_counts()"
      ],
      "execution_count": 4,
      "outputs": [
        {
          "output_type": "execute_result",
          "data": {
            "text/plain": [
              "0    576\n",
              "1     49\n",
              "Name: balance, dtype: int64"
            ]
          },
          "metadata": {
            "tags": []
          },
          "execution_count": 4
        }
      ]
    },
    {
      "cell_type": "code",
      "metadata": {
        "id": "0v158URGjliR"
      },
      "source": [
        "from sklearn.linear_model import LogisticRegression\n",
        "from sklearn.metrics import accuracy_score"
      ],
      "execution_count": 5,
      "outputs": []
    },
    {
      "cell_type": "code",
      "metadata": {
        "id": "mlAylR7njaj6"
      },
      "source": [
        "# Separate input features (X) and target variable (y)\n",
        "y = df.balance\n",
        "X = df.drop('balance', axis=1)\n",
        " \n",
        "# Train model\n",
        "clf_0 = LogisticRegression().fit(X, y)\n",
        " \n",
        "# Predict on training set\n",
        "pred_y_0 = clf_0.predict(X)"
      ],
      "execution_count": 6,
      "outputs": []
    },
    {
      "cell_type": "code",
      "metadata": {
        "id": "VO6n0fXXkGc5",
        "outputId": "81d577e3-3103-4070-e653-fd9cd11b3bbe",
        "colab": {
          "base_uri": "https://localhost:8080/",
          "height": 35
        }
      },
      "source": [
        "print( accuracy_score(pred_y_0, y) )"
      ],
      "execution_count": 7,
      "outputs": [
        {
          "output_type": "stream",
          "text": [
            "0.9216\n"
          ],
          "name": "stdout"
        }
      ]
    },
    {
      "cell_type": "code",
      "metadata": {
        "id": "WKZfTUjfkP-J",
        "outputId": "4ba3f58e-74d6-43c2-9da7-bad8308a515a",
        "colab": {
          "base_uri": "https://localhost:8080/",
          "height": 35
        }
      },
      "source": [
        "print( np.unique( pred_y_0 ) )"
      ],
      "execution_count": 8,
      "outputs": [
        {
          "output_type": "stream",
          "text": [
            "[0]\n"
          ],
          "name": "stdout"
        }
      ]
    },
    {
      "cell_type": "markdown",
      "metadata": {
        "id": "nhDpfAQcopV2"
      },
      "source": [
        "**1. Up-sample Minority Class**\n",
        "\n",
        "Up-sampling is the process of randomly duplicating observations from the minority class in order to reinforce its signal.\n",
        "\n",
        "There are several heuristics for doing so, but the most common way is to simply resample with replacement."
      ]
    },
    {
      "cell_type": "code",
      "metadata": {
        "id": "ppyOqLaAkywC"
      },
      "source": [
        "from sklearn.utils import resample"
      ],
      "execution_count": 9,
      "outputs": []
    },
    {
      "cell_type": "markdown",
      "metadata": {
        "id": "oO-zNhaYk7yb"
      },
      "source": [
        "Next, we'll create a new DataFrame with an up-sampled minority class. Here are the steps:\n",
        "\n",
        "First, we'll separate observations from each class into different DataFrames.\n",
        "\n",
        "Next, we'll resample the minority class with replacement, setting the number of samples to match that of the majority class.\n",
        "\n",
        "Finally, we'll combine the up-sampled minority class DataFrame with the original majority class DataFrame."
      ]
    },
    {
      "cell_type": "code",
      "metadata": {
        "id": "KX5pFHHMlMUy",
        "outputId": "4b0ae825-892c-41f2-a20f-6756a157713b",
        "colab": {
          "base_uri": "https://localhost:8080/",
          "height": 69
        }
      },
      "source": [
        "# Separate majority and minority classes\n",
        "df_majority = df[df.balance==0]\n",
        "df_minority = df[df.balance==1]\n",
        " \n",
        "# Upsample minority class\n",
        "df_minority_upsampled = resample(df_minority, \n",
        "                                 replace=True,     # sample with replacement\n",
        "                                 n_samples=576,    # to match majority class\n",
        "                                 random_state=123) # reproducible results\n",
        " \n",
        "# Combine majority class with upsampled minority class\n",
        "df_upsampled = pd.concat([df_majority, df_minority_upsampled])\n",
        " \n",
        "# Display new class counts\n",
        "df_upsampled.balance.value_counts()"
      ],
      "execution_count": 10,
      "outputs": [
        {
          "output_type": "execute_result",
          "data": {
            "text/plain": [
              "1    576\n",
              "0    576\n",
              "Name: balance, dtype: int64"
            ]
          },
          "metadata": {
            "tags": []
          },
          "execution_count": 10
        }
      ]
    },
    {
      "cell_type": "markdown",
      "metadata": {
        "id": "DgnIOL2fpHar"
      },
      "source": [
        "Train model on upsampled dataset"
      ]
    },
    {
      "cell_type": "code",
      "metadata": {
        "id": "DgTtMPDkk-Ar",
        "outputId": "092a0f1a-0b14-44fc-f3cc-ab36482d03a6",
        "colab": {
          "base_uri": "https://localhost:8080/",
          "height": 35
        }
      },
      "source": [
        "# Separate input features (X) and target variable (y)\n",
        "y = df_upsampled.balance\n",
        "X = df_upsampled.drop('balance', axis=1)\n",
        " \n",
        "# Train model\n",
        "clf_1 = LogisticRegression().fit(X, y)\n",
        " \n",
        "# Predict on training set\n",
        "pred_y_1 = clf_1.predict(X)\n",
        " \n",
        "# Is our model still predicting just one class?\n",
        "print( np.unique( pred_y_1 ) )"
      ],
      "execution_count": 11,
      "outputs": [
        {
          "output_type": "stream",
          "text": [
            "[0 1]\n"
          ],
          "name": "stdout"
        }
      ]
    },
    {
      "cell_type": "code",
      "metadata": {
        "id": "P5tpW4Vdpd0h",
        "outputId": "dc666278-9dc1-411c-c1e0-c227f83c20fc",
        "colab": {
          "base_uri": "https://localhost:8080/",
          "height": 35
        }
      },
      "source": [
        "print( accuracy_score(y, pred_y_1) )"
      ],
      "execution_count": 12,
      "outputs": [
        {
          "output_type": "stream",
          "text": [
            "0.5147569444444444\n"
          ],
          "name": "stdout"
        }
      ]
    },
    {
      "cell_type": "markdown",
      "metadata": {
        "id": "6wc1skOXrBV0"
      },
      "source": [
        "**2. Down-sample Majority Class**\n",
        "\n",
        "Down-sampling involves randomly removing observations from the majority class to prevent its signal from dominating the learning algorithm.\n",
        "\n",
        "The most common heuristic for doing so is resampling without replacement."
      ]
    },
    {
      "cell_type": "markdown",
      "metadata": {
        "id": "_Cr7Dlv0rhqi"
      },
      "source": [
        "First, we'll separate observations from each class into different DataFrames.\n",
        "\n",
        "Next, we'll resample the majority class without replacement, setting the number of samples to match that of the minority class.\n",
        "\n",
        "Finally, we'll combine the down-sampled majority class DataFrame with the original minority class DataFrame."
      ]
    },
    {
      "cell_type": "code",
      "metadata": {
        "id": "EzYSaWOhrA-f",
        "outputId": "a1919156-4faf-4c95-c23d-f65410021616",
        "colab": {
          "base_uri": "https://localhost:8080/",
          "height": 69
        }
      },
      "source": [
        "# Separate majority and minority classes\n",
        "df_majority = df[df.balance==0]\n",
        "df_minority = df[df.balance==1]\n",
        " \n",
        "# Downsample majority class\n",
        "df_majority_downsampled = resample(df_majority, \n",
        "                                 replace=False,    # sample without replacement\n",
        "                                 n_samples=49,     # to match minority class\n",
        "                                 random_state=123) # reproducible results\n",
        " \n",
        "# Combine minority class with downsampled majority class\n",
        "df_downsampled = pd.concat([df_majority_downsampled, df_minority])\n",
        " \n",
        "# Display new class counts\n",
        "df_downsampled.balance.value_counts()"
      ],
      "execution_count": 13,
      "outputs": [
        {
          "output_type": "execute_result",
          "data": {
            "text/plain": [
              "1    49\n",
              "0    49\n",
              "Name: balance, dtype: int64"
            ]
          },
          "metadata": {
            "tags": []
          },
          "execution_count": 13
        }
      ]
    },
    {
      "cell_type": "markdown",
      "metadata": {
        "id": "nHCSqoFPr46p"
      },
      "source": [
        "Again, let's train a model using Logistic Regression:"
      ]
    },
    {
      "cell_type": "code",
      "metadata": {
        "id": "8eeVBWzIr6QC",
        "outputId": "c61ad4cc-e2e0-4f5f-d9f9-1f68ec45767a",
        "colab": {
          "base_uri": "https://localhost:8080/",
          "height": 35
        }
      },
      "source": [
        "# Separate input features (X) and target variable (y)\n",
        "y = df_downsampled.balance\n",
        "X = df_downsampled.drop('balance', axis=1)\n",
        " \n",
        "# Train model\n",
        "clf_2 = LogisticRegression().fit(X, y)\n",
        " \n",
        "# Predict on training set\n",
        "pred_y_2 = clf_2.predict(X)\n",
        " \n",
        "# Is our model still predicting just one class?\n",
        "print( np.unique( pred_y_2 ) )"
      ],
      "execution_count": 14,
      "outputs": [
        {
          "output_type": "stream",
          "text": [
            "[0 1]\n"
          ],
          "name": "stdout"
        }
      ]
    },
    {
      "cell_type": "code",
      "metadata": {
        "id": "ZLOEKzJBsIts",
        "outputId": "9f67c330-148c-45ae-e2b3-c21ddb777751",
        "colab": {
          "base_uri": "https://localhost:8080/",
          "height": 35
        }
      },
      "source": [
        "# How's our accuracy?\n",
        "print( accuracy_score(y, pred_y_2) )"
      ],
      "execution_count": 15,
      "outputs": [
        {
          "output_type": "stream",
          "text": [
            "0.5612244897959183\n"
          ],
          "name": "stdout"
        }
      ]
    },
    {
      "cell_type": "markdown",
      "metadata": {
        "id": "0DXVS-eMvpad"
      },
      "source": [
        "**3.  Synthetic Minority Oversampling Technique (SMOTE)**\n",
        "\n",
        "This technique generates synthetic data for the minority class.\n",
        "\n",
        "SMOTE (Synthetic Minority Oversampling Technique) works by randomly picking a point from the minority class and computing the k-nearest neighbors for this point. The synthetic points are added between the chosen point and its neighbors."
      ]
    },
    {
      "cell_type": "markdown",
      "metadata": {
        "id": "2FOQuwqHwZxZ"
      },
      "source": [
        "MOTE algorithm works in 4 simple steps:\n",
        "\n",
        "1.Choose a minority class as the input vector\n",
        "\n",
        "2.Find its k nearest neighbors (k_neighbors is specified as an argument in the SMOTE() function)\n",
        "\n",
        "3.Choose one of these neighbors and place a synthetic point anywhere on the line joining the point under consideration and its chosen neighbor\n",
        "\n",
        "4.Repeat the steps until data is balanced"
      ]
    },
    {
      "cell_type": "code",
      "metadata": {
        "id": "7ylyvQa9vxnb"
      },
      "source": [
        "# import library\n",
        "from imblearn.over_sampling import SMOTE\n",
        "\n",
        "smote = SMOTE()\n",
        "\n",
        "# fit predictor and target variable\n",
        "x_smote, y_smote = smote.fit_resample(X, y)\n",
        "\n"
      ],
      "execution_count": 22,
      "outputs": []
    }
  ]
}